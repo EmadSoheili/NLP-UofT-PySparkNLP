{
  "nbformat": 4,
  "nbformat_minor": 0,
  "metadata": {
    "colab": {
      "provenance": [],
      "authorship_tag": "ABX9TyNmmBkWIbjkdT731dDyoIlh",
      "include_colab_link": true
    },
    "kernelspec": {
      "name": "python3",
      "display_name": "Python 3"
    },
    "language_info": {
      "name": "python"
    }
  },
  "cells": [
    {
      "cell_type": "markdown",
      "metadata": {
        "id": "view-in-github",
        "colab_type": "text"
      },
      "source": [
        "<a href=\"https://colab.research.google.com/github/EmadSoheili/PySpark-UofT-NLP/blob/main/PySpark_ETL.ipynb\" target=\"_parent\"><img src=\"https://colab.research.google.com/assets/colab-badge.svg\" alt=\"Open In Colab\"/></a>"
      ]
    },
    {
      "cell_type": "code",
      "source": [
        "# Install PySpark\n",
        "\n",
        "!pip install pyspark"
      ],
      "metadata": {
        "colab": {
          "base_uri": "https://localhost:8080/"
        },
        "id": "GagRnNJlA14N",
        "outputId": "2d94e045-0497-44cb-f162-c8f4d578be54"
      },
      "execution_count": 2,
      "outputs": [
        {
          "output_type": "stream",
          "name": "stdout",
          "text": [
            "Looking in indexes: https://pypi.org/simple, https://us-python.pkg.dev/colab-wheels/public/simple/\n",
            "Collecting pyspark\n",
            "  Downloading pyspark-3.3.1.tar.gz (281.4 MB)\n",
            "\u001b[K     |████████████████████████████████| 281.4 MB 44 kB/s \n",
            "\u001b[?25hCollecting py4j==0.10.9.5\n",
            "  Downloading py4j-0.10.9.5-py2.py3-none-any.whl (199 kB)\n",
            "\u001b[K     |████████████████████████████████| 199 kB 62.1 MB/s \n",
            "\u001b[?25hBuilding wheels for collected packages: pyspark\n",
            "  Building wheel for pyspark (setup.py) ... \u001b[?25l\u001b[?25hdone\n",
            "  Created wheel for pyspark: filename=pyspark-3.3.1-py2.py3-none-any.whl size=281845512 sha256=eb3278b5c55f0506f10378c03fe9f55ec09be2cb46b05a7780234aa714ffe94a\n",
            "  Stored in directory: /root/.cache/pip/wheels/43/dc/11/ec201cd671da62fa9c5cc77078235e40722170ceba231d7598\n",
            "Successfully built pyspark\n",
            "Installing collected packages: py4j, pyspark\n",
            "Successfully installed py4j-0.10.9.5 pyspark-3.3.1\n"
          ]
        }
      ]
    },
    {
      "cell_type": "code",
      "source": [
        "!wget https://jdbc.postgresql.org/download/postgresql-42.2.17.jar"
      ],
      "metadata": {
        "colab": {
          "base_uri": "https://localhost:8080/"
        },
        "id": "zoDRKBs0xcHf",
        "outputId": "a3ae427d-f076-4d51-ba7e-03ca626f5619"
      },
      "execution_count": 3,
      "outputs": [
        {
          "output_type": "stream",
          "name": "stdout",
          "text": [
            "--2022-12-17 03:54:43--  https://jdbc.postgresql.org/download/postgresql-42.2.17.jar\n",
            "Resolving jdbc.postgresql.org (jdbc.postgresql.org)... 72.32.157.228, 2001:4800:3e1:1::228\n",
            "Connecting to jdbc.postgresql.org (jdbc.postgresql.org)|72.32.157.228|:443... connected.\n",
            "HTTP request sent, awaiting response... 200 OK\n",
            "Length: 1004734 (981K) [application/java-archive]\n",
            "Saving to: ‘postgresql-42.2.17.jar’\n",
            "\n",
            "postgresql-42.2.17. 100%[===================>] 981.19K  6.06MB/s    in 0.2s    \n",
            "\n",
            "2022-12-17 03:54:43 (6.06 MB/s) - ‘postgresql-42.2.17.jar’ saved [1004734/1004734]\n",
            "\n"
          ]
        }
      ]
    },
    {
      "cell_type": "code",
      "source": [
        "from pyspark.sql import SparkSession\n",
        "spark = SparkSession.builder.appName(\"CloudETL\").config(\"spark.driver.extraClassPath\",\"/content/postgresql-42.2.17.jar\").getOrCreate()"
      ],
      "metadata": {
        "id": "zRsKvggZxdrJ"
      },
      "execution_count": 4,
      "outputs": []
    },
    {
      "cell_type": "code",
      "source": [
        "# Load data from S3\n",
        "\n",
        "from pyspark import SparkFiles\n",
        "url = 'https://s3.ca-central-1.amazonaws.com/emad.soheili-bucket/user_data.csv'\n",
        "spark.sparkContext.addFile(url)\n",
        "user_data_df = spark.read.csv(SparkFiles.get('user_data.csv'), sep=',', header = True, inferSchema=True)\n",
        "user_data_df.show()"
      ],
      "metadata": {
        "colab": {
          "base_uri": "https://localhost:8080/"
        },
        "id": "pVhbQGb5xpJc",
        "outputId": "aff7b518-8227-43c3-c92e-50883d2452f8"
      },
      "execution_count": 7,
      "outputs": [
        {
          "output_type": "stream",
          "name": "stdout",
          "text": [
            "+---+----------+---------+-----------+--------------------+--------------------+------------+\n",
            "| id|first_name|last_name|active_user|      street_address|               state|    username|\n",
            "+---+----------+---------+-----------+--------------------+--------------------+------------+\n",
            "|  1|    Cletus|  Lithcow|      false| 78309 Riverside Way|            Virginia|   ibearham0|\n",
            "|  2|       Caz|   Felgat|      false| 83 Hazelcrest Place|             Alabama|    wwaller1|\n",
            "|  3|     Kerri|  Crowson|      false|      112 Eliot Pass|      North Carolina|   ichesnut2|\n",
            "|  4|   Freddie|    Caghy|      false|     15 Merchant Way|            New York|     tsnarr3|\n",
            "|  5|   Sadella|    Deuss|      false|    079 Acker Avenue|           Tennessee|   fwherrit4|\n",
            "|  6|    Fraser|  Korneev|       true|  76084 Novick Court|           Minnesota|  fstappard5|\n",
            "|  7|    Demott|   Rapson|       true|    86320 Dahle Park|District of Columbia|  lhambling6|\n",
            "|  8|    Robert|    Poile|      false|1540 Manitowish Hill|             Georgia|      drude7|\n",
            "|  9|    Nollie|     null|       true|       4 Katie Court|                Ohio|   bspawton8|\n",
            "| 10|   Merilyn| Frascone|      false|     387 Duke Street|                Ohio| rmackeller9|\n",
            "| 11|    Rickie| Tredwell|      false|  04 Monterey Center|            Missouri| cdennerleya|\n",
            "| 12|  Charmane| Connerry|      false|    0 Larry Junction|             Florida|    gsarfasb|\n",
            "| 13|     Nerti|   Kerins|      false|    68 Portage Trail|          California| mpichefordc|\n",
            "| 14|      Bart|     null|      false|    8 Homewood Court|District of Columbia|     bingryd|\n",
            "| 15|   Sadella|    Jaram|       true|7528 Waxwing Terrace|         Connecticut|   wheinerte|\n",
            "| 16|     Dicky|  Runnett|      false|  1793 Delaware Park|             Florida|    mdrewetf|\n",
            "| 17|    Hewitt|  Trammel|       true|    2455 Corry Alley|      North Carolina|droughsedgeg|\n",
            "| 18|  Gilligan|     Boys|      false|       2 Raven Court|             Florida|     abaakeh|\n",
            "| 19|       Ted|  Knowlys|       true|      31 South Drive|                Ohio|   ydudeniei|\n",
            "| 20|      Darb|   Carrel|      false|406 Park Meadow C...|           Minnesota|   ckermittj|\n",
            "+---+----------+---------+-----------+--------------------+--------------------+------------+\n",
            "only showing top 20 rows\n",
            "\n"
          ]
        }
      ]
    },
    {
      "cell_type": "code",
      "source": [
        "url = 'https://s3.ca-central-1.amazonaws.com/emad.soheili-bucket/user_payment.csv'\n",
        "spark.sparkContext.addFile(url)\n",
        "user_payment_df = spark.read.csv(SparkFiles.get('user_payment.csv'), sep=',', header = True, inferSchema=True)\n",
        "user_payment_df.show()"
      ],
      "metadata": {
        "colab": {
          "base_uri": "https://localhost:8080/"
        },
        "id": "iFEc0VR2OIhM",
        "outputId": "4a9fc346-b7c3-4218-92e0-1a9450fb79a7"
      },
      "execution_count": 8,
      "outputs": [
        {
          "output_type": "stream",
          "name": "stdout",
          "text": [
            "+----------+------------+--------------------+\n",
            "|billing_id|    username|        cc_encrypted|\n",
            "+----------+------------+--------------------+\n",
            "|         1|   ibearham0|a799fcafe47d7fb19...|\n",
            "|         2|    wwaller1|a799fcafe47d7fb19...|\n",
            "|         3|   ichesnut2|a799fcafe47d7fb19...|\n",
            "|         4|     tsnarr3|a799fcafe47d7fb19...|\n",
            "|         5|   fwherrit4|a799fcafe47d7fb19...|\n",
            "|         6|  fstappard5|a799fcafe47d7fb19...|\n",
            "|         7|  lhambling6|a799fcafe47d7fb19...|\n",
            "|         8|      drude7|a799fcafe47d7fb19...|\n",
            "|         9|   bspawton8|a799fcafe47d7fb19...|\n",
            "|        10| rmackeller9|a799fcafe47d7fb19...|\n",
            "|        11| cdennerleya|a799fcafe47d7fb19...|\n",
            "|        12|    gsarfasb|a799fcafe47d7fb19...|\n",
            "|        13| mpichefordc|a799fcafe47d7fb19...|\n",
            "|        14|     bingryd|a799fcafe47d7fb19...|\n",
            "|        15|   wheinerte|a799fcafe47d7fb19...|\n",
            "|        16|    mdrewetf|a799fcafe47d7fb19...|\n",
            "|        17|droughsedgeg|a799fcafe47d7fb19...|\n",
            "|        18|     abaakeh|a799fcafe47d7fb19...|\n",
            "|        19|   ydudeniei|a799fcafe47d7fb19...|\n",
            "|        20|   ckermittj|a799fcafe47d7fb19...|\n",
            "+----------+------------+--------------------+\n",
            "only showing top 20 rows\n",
            "\n"
          ]
        }
      ]
    },
    {
      "cell_type": "code",
      "source": [
        "# Join the two DataFrames\n",
        "\n",
        "joined_df = user_data_df.join(user_payment_df, on='username', how='inner')\n",
        "joined_df.show()"
      ],
      "metadata": {
        "colab": {
          "base_uri": "https://localhost:8080/"
        },
        "id": "DD4X2DnEWZeJ",
        "outputId": "297f7277-1ad7-48f1-de75-99d24931af5f"
      },
      "execution_count": 9,
      "outputs": [
        {
          "output_type": "stream",
          "name": "stdout",
          "text": [
            "+------------+---+----------+---------+-----------+--------------------+--------------------+----------+--------------------+\n",
            "|    username| id|first_name|last_name|active_user|      street_address|               state|billing_id|        cc_encrypted|\n",
            "+------------+---+----------+---------+-----------+--------------------+--------------------+----------+--------------------+\n",
            "|   ibearham0|  1|    Cletus|  Lithcow|      false| 78309 Riverside Way|            Virginia|         1|a799fcafe47d7fb19...|\n",
            "|    wwaller1|  2|       Caz|   Felgat|      false| 83 Hazelcrest Place|             Alabama|         2|a799fcafe47d7fb19...|\n",
            "|   ichesnut2|  3|     Kerri|  Crowson|      false|      112 Eliot Pass|      North Carolina|         3|a799fcafe47d7fb19...|\n",
            "|     tsnarr3|  4|   Freddie|    Caghy|      false|     15 Merchant Way|            New York|         4|a799fcafe47d7fb19...|\n",
            "|   fwherrit4|  5|   Sadella|    Deuss|      false|    079 Acker Avenue|           Tennessee|         5|a799fcafe47d7fb19...|\n",
            "|  fstappard5|  6|    Fraser|  Korneev|       true|  76084 Novick Court|           Minnesota|         6|a799fcafe47d7fb19...|\n",
            "|  lhambling6|  7|    Demott|   Rapson|       true|    86320 Dahle Park|District of Columbia|         7|a799fcafe47d7fb19...|\n",
            "|      drude7|  8|    Robert|    Poile|      false|1540 Manitowish Hill|             Georgia|         8|a799fcafe47d7fb19...|\n",
            "|   bspawton8|  9|    Nollie|     null|       true|       4 Katie Court|                Ohio|         9|a799fcafe47d7fb19...|\n",
            "| rmackeller9| 10|   Merilyn| Frascone|      false|     387 Duke Street|                Ohio|        10|a799fcafe47d7fb19...|\n",
            "| cdennerleya| 11|    Rickie| Tredwell|      false|  04 Monterey Center|            Missouri|        11|a799fcafe47d7fb19...|\n",
            "|    gsarfasb| 12|  Charmane| Connerry|      false|    0 Larry Junction|             Florida|        12|a799fcafe47d7fb19...|\n",
            "| mpichefordc| 13|     Nerti|   Kerins|      false|    68 Portage Trail|          California|        13|a799fcafe47d7fb19...|\n",
            "|     bingryd| 14|      Bart|     null|      false|    8 Homewood Court|District of Columbia|        14|a799fcafe47d7fb19...|\n",
            "|   wheinerte| 15|   Sadella|    Jaram|       true|7528 Waxwing Terrace|         Connecticut|        15|a799fcafe47d7fb19...|\n",
            "|    mdrewetf| 16|     Dicky|  Runnett|      false|  1793 Delaware Park|             Florida|        16|a799fcafe47d7fb19...|\n",
            "|droughsedgeg| 17|    Hewitt|  Trammel|       true|    2455 Corry Alley|      North Carolina|        17|a799fcafe47d7fb19...|\n",
            "|     abaakeh| 18|  Gilligan|     Boys|      false|       2 Raven Court|             Florida|        18|a799fcafe47d7fb19...|\n",
            "|   ydudeniei| 19|       Ted|  Knowlys|       true|      31 South Drive|                Ohio|        19|a799fcafe47d7fb19...|\n",
            "|   ckermittj| 20|      Darb|   Carrel|      false|406 Park Meadow C...|           Minnesota|        20|a799fcafe47d7fb19...|\n",
            "+------------+---+----------+---------+-----------+--------------------+--------------------+----------+--------------------+\n",
            "only showing top 20 rows\n",
            "\n"
          ]
        }
      ]
    },
    {
      "cell_type": "code",
      "source": [
        "# Drop Null values\n",
        "\n",
        "dropna_df = joined_df.dropna()\n",
        "dropna_df.show()"
      ],
      "metadata": {
        "colab": {
          "base_uri": "https://localhost:8080/"
        },
        "id": "m3Mr1M_vaVzC",
        "outputId": "22e934f3-ea50-4dc0-c3dc-78a7d3ce64c7"
      },
      "execution_count": 10,
      "outputs": [
        {
          "output_type": "stream",
          "name": "stdout",
          "text": [
            "+------------+---+----------+---------+-----------+--------------------+--------------------+----------+--------------------+\n",
            "|    username| id|first_name|last_name|active_user|      street_address|               state|billing_id|        cc_encrypted|\n",
            "+------------+---+----------+---------+-----------+--------------------+--------------------+----------+--------------------+\n",
            "|   ibearham0|  1|    Cletus|  Lithcow|      false| 78309 Riverside Way|            Virginia|         1|a799fcafe47d7fb19...|\n",
            "|    wwaller1|  2|       Caz|   Felgat|      false| 83 Hazelcrest Place|             Alabama|         2|a799fcafe47d7fb19...|\n",
            "|   ichesnut2|  3|     Kerri|  Crowson|      false|      112 Eliot Pass|      North Carolina|         3|a799fcafe47d7fb19...|\n",
            "|     tsnarr3|  4|   Freddie|    Caghy|      false|     15 Merchant Way|            New York|         4|a799fcafe47d7fb19...|\n",
            "|   fwherrit4|  5|   Sadella|    Deuss|      false|    079 Acker Avenue|           Tennessee|         5|a799fcafe47d7fb19...|\n",
            "|  fstappard5|  6|    Fraser|  Korneev|       true|  76084 Novick Court|           Minnesota|         6|a799fcafe47d7fb19...|\n",
            "|  lhambling6|  7|    Demott|   Rapson|       true|    86320 Dahle Park|District of Columbia|         7|a799fcafe47d7fb19...|\n",
            "|      drude7|  8|    Robert|    Poile|      false|1540 Manitowish Hill|             Georgia|         8|a799fcafe47d7fb19...|\n",
            "| rmackeller9| 10|   Merilyn| Frascone|      false|     387 Duke Street|                Ohio|        10|a799fcafe47d7fb19...|\n",
            "| cdennerleya| 11|    Rickie| Tredwell|      false|  04 Monterey Center|            Missouri|        11|a799fcafe47d7fb19...|\n",
            "|    gsarfasb| 12|  Charmane| Connerry|      false|    0 Larry Junction|             Florida|        12|a799fcafe47d7fb19...|\n",
            "| mpichefordc| 13|     Nerti|   Kerins|      false|    68 Portage Trail|          California|        13|a799fcafe47d7fb19...|\n",
            "|   wheinerte| 15|   Sadella|    Jaram|       true|7528 Waxwing Terrace|         Connecticut|        15|a799fcafe47d7fb19...|\n",
            "|    mdrewetf| 16|     Dicky|  Runnett|      false|  1793 Delaware Park|             Florida|        16|a799fcafe47d7fb19...|\n",
            "|droughsedgeg| 17|    Hewitt|  Trammel|       true|    2455 Corry Alley|      North Carolina|        17|a799fcafe47d7fb19...|\n",
            "|     abaakeh| 18|  Gilligan|     Boys|      false|       2 Raven Court|             Florida|        18|a799fcafe47d7fb19...|\n",
            "|   ydudeniei| 19|       Ted|  Knowlys|       true|      31 South Drive|                Ohio|        19|a799fcafe47d7fb19...|\n",
            "|   ckermittj| 20|      Darb|   Carrel|      false|406 Park Meadow C...|           Minnesota|        20|a799fcafe47d7fb19...|\n",
            "|     ipowisk| 21|   Diandra|Cancellor|      false|      1 Fisk Parkway|      North Carolina|        21|a799fcafe47d7fb19...|\n",
            "|    dtaltonl| 22|    Ulrika| Itzhayek|      false|  890 Lakewood Alley|          California|        22|a799fcafe47d7fb19...|\n",
            "+------------+---+----------+---------+-----------+--------------------+--------------------+----------+--------------------+\n",
            "only showing top 20 rows\n",
            "\n"
          ]
        }
      ]
    },
    {
      "cell_type": "code",
      "source": [
        "# Load a sql function for column\n",
        "\n",
        "from pyspark.sql.functions import col\n",
        "\n",
        "# Filter for rows with active user only\n",
        "\n",
        "cleaned_df = dropna_df.filter(col('active_user')==True)\n",
        "cleaned_df.show()"
      ],
      "metadata": {
        "colab": {
          "base_uri": "https://localhost:8080/"
        },
        "id": "ExIJM4UfatFa",
        "outputId": "80dcaf2a-fb35-4bdc-f8f6-fc3c2c09a314"
      },
      "execution_count": 12,
      "outputs": [
        {
          "output_type": "stream",
          "name": "stdout",
          "text": [
            "+-------------+---+----------+-----------+-----------+--------------------+--------------------+----------+--------------------+\n",
            "|     username| id|first_name|  last_name|active_user|      street_address|               state|billing_id|        cc_encrypted|\n",
            "+-------------+---+----------+-----------+-----------+--------------------+--------------------+----------+--------------------+\n",
            "|   fstappard5|  6|    Fraser|    Korneev|       true|  76084 Novick Court|           Minnesota|         6|a799fcafe47d7fb19...|\n",
            "|   lhambling6|  7|    Demott|     Rapson|       true|    86320 Dahle Park|District of Columbia|         7|a799fcafe47d7fb19...|\n",
            "|    wheinerte| 15|   Sadella|      Jaram|       true|7528 Waxwing Terrace|         Connecticut|        15|a799fcafe47d7fb19...|\n",
            "| droughsedgeg| 17|    Hewitt|    Trammel|       true|    2455 Corry Alley|      North Carolina|        17|a799fcafe47d7fb19...|\n",
            "|    ydudeniei| 19|       Ted|    Knowlys|       true|      31 South Drive|                Ohio|        19|a799fcafe47d7fb19...|\n",
            "|     fmyttonm| 23|  Annmarie|     Lafond|       true|     35 Oriole Place|             Georgia|        23|a799fcafe47d7fb19...|\n",
            "|   bfletcherr| 28|      Toma|     Sokell|       true|39641 Eggendart Hill|            Maryland|        28|a799fcafe47d7fb19...|\n",
            "|     gturleyt| 30|       Ram|    Lefever|       true|   9969 Laurel Alley|               Texas|        30|a799fcafe47d7fb19...|\n",
            "|    calyukinu| 31|    Raddie|    Heindle|       true|   811 Talmadge Road|                Ohio|        31|a799fcafe47d7fb19...|\n",
            "| ckleinlererw| 33|    Wallie|       Caws|       true|   9999 Kenwood Pass|              Oregon|        33|a799fcafe47d7fb19...|\n",
            "|  pshanklandx| 34|    Derril|Varfolomeev|       true|     4 Jenifer Court|             Florida|        34|a799fcafe47d7fb19...|\n",
            "|    enelane12| 39|     Kelcy|     Wheway|       true|93207 Morningstar...|             Florida|        39|a799fcafe47d7fb19...|\n",
            "|    sfollet13| 40|    Dorree|    Rookeby|       true|       2 Troy Circle|          California|        40|a799fcafe47d7fb19...|\n",
            "|      mtesh14| 41|    Martyn|       Tott|       true|       728 Muir Lane|             Florida|        41|a799fcafe47d7fb19...|\n",
            "|   tseyfart16| 43|     Cally|      Thody|       true|   1 Graceland Plaza|             Florida|        43|a799fcafe47d7fb19...|\n",
            "|   hfarrier18| 45|       Ted|   Pittaway|       true|767 Little Fleur ...|      North Carolina|        45|a799fcafe47d7fb19...|\n",
            "|     nabbie1b| 48|      Fifi|    Lidgley|       true|6744 Sutherland Road|      South Carolina|        48|a799fcafe47d7fb19...|\n",
            "|  ystadding1d| 50|    Ashely|     O'Hern|       true|   929 Scoville Park|             Florida|        50|a799fcafe47d7fb19...|\n",
            "|hhallgalley1g| 53|   Diannne|Osbaldeston|       true|        0 Mesta Pass|           Tennessee|        53|a799fcafe47d7fb19...|\n",
            "|   ageaveny1n| 60|     Sonny|     Jeskin|       true| 50 Sutherland Drive|       Massachusetts|        60|a799fcafe47d7fb19...|\n",
            "+-------------+---+----------+-----------+-----------+--------------------+--------------------+----------+--------------------+\n",
            "only showing top 20 rows\n",
            "\n"
          ]
        }
      ]
    },
    {
      "cell_type": "code",
      "source": [
        "# Create active_user table\n",
        "\n",
        "clean_user_df = cleaned_df.select(['id','first_name','last_name','username'])\n",
        "clean_user_df.show()"
      ],
      "metadata": {
        "colab": {
          "base_uri": "https://localhost:8080/"
        },
        "id": "TYw0I7nybW0L",
        "outputId": "68643968-131e-4bbf-a0cf-a69622866b9d"
      },
      "execution_count": 15,
      "outputs": [
        {
          "output_type": "stream",
          "name": "stdout",
          "text": [
            "+---+----------+-----------+-------------+\n",
            "| id|first_name|  last_name|     username|\n",
            "+---+----------+-----------+-------------+\n",
            "|  6|    Fraser|    Korneev|   fstappard5|\n",
            "|  7|    Demott|     Rapson|   lhambling6|\n",
            "| 15|   Sadella|      Jaram|    wheinerte|\n",
            "| 17|    Hewitt|    Trammel| droughsedgeg|\n",
            "| 19|       Ted|    Knowlys|    ydudeniei|\n",
            "| 23|  Annmarie|     Lafond|     fmyttonm|\n",
            "| 28|      Toma|     Sokell|   bfletcherr|\n",
            "| 30|       Ram|    Lefever|     gturleyt|\n",
            "| 31|    Raddie|    Heindle|    calyukinu|\n",
            "| 33|    Wallie|       Caws| ckleinlererw|\n",
            "| 34|    Derril|Varfolomeev|  pshanklandx|\n",
            "| 39|     Kelcy|     Wheway|    enelane12|\n",
            "| 40|    Dorree|    Rookeby|    sfollet13|\n",
            "| 41|    Martyn|       Tott|      mtesh14|\n",
            "| 43|     Cally|      Thody|   tseyfart16|\n",
            "| 45|       Ted|   Pittaway|   hfarrier18|\n",
            "| 48|      Fifi|    Lidgley|     nabbie1b|\n",
            "| 50|    Ashely|     O'Hern|  ystadding1d|\n",
            "| 53|   Diannne|Osbaldeston|hhallgalley1g|\n",
            "| 60|     Sonny|     Jeskin|   ageaveny1n|\n",
            "+---+----------+-----------+-------------+\n",
            "only showing top 20 rows\n",
            "\n"
          ]
        }
      ]
    },
    {
      "cell_type": "code",
      "source": [
        "# Create billing_info table\n",
        "\n",
        "clean_billing_df = cleaned_df.select(['billing_id','street_address','state','username'])\n",
        "clean_billing_df.show()"
      ],
      "metadata": {
        "colab": {
          "base_uri": "https://localhost:8080/"
        },
        "id": "i0GdGRdodl3j",
        "outputId": "94a51f34-7ad5-4e1e-839f-96dedd8e6f66"
      },
      "execution_count": 16,
      "outputs": [
        {
          "output_type": "stream",
          "name": "stdout",
          "text": [
            "+----------+--------------------+--------------------+-------------+\n",
            "|billing_id|      street_address|               state|     username|\n",
            "+----------+--------------------+--------------------+-------------+\n",
            "|         6|  76084 Novick Court|           Minnesota|   fstappard5|\n",
            "|         7|    86320 Dahle Park|District of Columbia|   lhambling6|\n",
            "|        15|7528 Waxwing Terrace|         Connecticut|    wheinerte|\n",
            "|        17|    2455 Corry Alley|      North Carolina| droughsedgeg|\n",
            "|        19|      31 South Drive|                Ohio|    ydudeniei|\n",
            "|        23|     35 Oriole Place|             Georgia|     fmyttonm|\n",
            "|        28|39641 Eggendart Hill|            Maryland|   bfletcherr|\n",
            "|        30|   9969 Laurel Alley|               Texas|     gturleyt|\n",
            "|        31|   811 Talmadge Road|                Ohio|    calyukinu|\n",
            "|        33|   9999 Kenwood Pass|              Oregon| ckleinlererw|\n",
            "|        34|     4 Jenifer Court|             Florida|  pshanklandx|\n",
            "|        39|93207 Morningstar...|             Florida|    enelane12|\n",
            "|        40|       2 Troy Circle|          California|    sfollet13|\n",
            "|        41|       728 Muir Lane|             Florida|      mtesh14|\n",
            "|        43|   1 Graceland Plaza|             Florida|   tseyfart16|\n",
            "|        45|767 Little Fleur ...|      North Carolina|   hfarrier18|\n",
            "|        48|6744 Sutherland Road|      South Carolina|     nabbie1b|\n",
            "|        50|   929 Scoville Park|             Florida|  ystadding1d|\n",
            "|        53|        0 Mesta Pass|           Tennessee|hhallgalley1g|\n",
            "|        60| 50 Sutherland Drive|       Massachusetts|   ageaveny1n|\n",
            "+----------+--------------------+--------------------+-------------+\n",
            "only showing top 20 rows\n",
            "\n"
          ]
        }
      ]
    },
    {
      "cell_type": "code",
      "source": [
        "# Create payment_info table\n",
        "\n",
        "clean_payment_df = cleaned_df.select(['billing_id','cc_encrypted'])\n",
        "clean_payment_df.show()"
      ],
      "metadata": {
        "colab": {
          "base_uri": "https://localhost:8080/"
        },
        "id": "o7ZhHEJZd8YR",
        "outputId": "f87b3dc7-4d16-4d18-f6fa-bd427e3b94af"
      },
      "execution_count": 17,
      "outputs": [
        {
          "output_type": "stream",
          "name": "stdout",
          "text": [
            "+----------+--------------------+\n",
            "|billing_id|        cc_encrypted|\n",
            "+----------+--------------------+\n",
            "|         6|a799fcafe47d7fb19...|\n",
            "|         7|a799fcafe47d7fb19...|\n",
            "|        15|a799fcafe47d7fb19...|\n",
            "|        17|a799fcafe47d7fb19...|\n",
            "|        19|a799fcafe47d7fb19...|\n",
            "|        23|a799fcafe47d7fb19...|\n",
            "|        28|a799fcafe47d7fb19...|\n",
            "|        30|a799fcafe47d7fb19...|\n",
            "|        31|a799fcafe47d7fb19...|\n",
            "|        33|a799fcafe47d7fb19...|\n",
            "|        34|a799fcafe47d7fb19...|\n",
            "|        39|a799fcafe47d7fb19...|\n",
            "|        40|a799fcafe47d7fb19...|\n",
            "|        41|a799fcafe47d7fb19...|\n",
            "|        43|a799fcafe47d7fb19...|\n",
            "|        45|a799fcafe47d7fb19...|\n",
            "|        48|a799fcafe47d7fb19...|\n",
            "|        50|a799fcafe47d7fb19...|\n",
            "|        53|a799fcafe47d7fb19...|\n",
            "|        60|a799fcafe47d7fb19...|\n",
            "+----------+--------------------+\n",
            "only showing top 20 rows\n",
            "\n"
          ]
        }
      ]
    },
    {
      "cell_type": "code",
      "source": [
        "# Store environmental variable\n",
        "\n",
        "from getpass import getpass\n",
        "password = getpass('Enter database password')\n",
        "\n",
        "# Configure settings for RDS\n",
        "\n",
        "mode = \"append\"\n",
        "jdbc_url=\"jdbc:postgresql://dataviz.cbj5cctssidy.ca-central-1.rds.amazonaws.com:5432/my_data_class_db\"\n",
        "config = {\"user\":\"postgres\",\n",
        "          \"password\": password,\n",
        "          \"driver\":\"org.postgresql.Driver\"}"
      ],
      "metadata": {
        "colab": {
          "base_uri": "https://localhost:8080/"
        },
        "id": "wGheK8YqeLrx",
        "outputId": "1d5597b2-bdbc-4b70-8c99-f2f0f2919472"
      },
      "execution_count": 25,
      "outputs": [
        {
          "name": "stdout",
          "output_type": "stream",
          "text": [
            "Enter database password··········\n"
          ]
        }
      ]
    },
    {
      "cell_type": "code",
      "source": [
        "# Write DataFrame to active_user table in RDS\n",
        "\n",
        "clean_user_df.write.jdbc(url=jdbc_url, table='active_user', mode=mode, properties=config)\n",
        "\n",
        "# Write dataframe to billing_info table in RDS\n",
        "\n",
        "clean_billing_df.write.jdbc(url=jdbc_url, table='billing_info', mode=mode, properties=config)\n",
        "\n",
        "# Write dataframe to payment_info table in RDS\n",
        "clean_payment_df.write.jdbc(url=jdbc_url, table='payment_info', mode=mode, properties=config)"
      ],
      "metadata": {
        "id": "fk7o71DmjFJu"
      },
      "execution_count": 26,
      "outputs": []
    }
  ]
}