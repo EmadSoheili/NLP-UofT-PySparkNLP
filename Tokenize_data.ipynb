{
  "nbformat": 4,
  "nbformat_minor": 0,
  "metadata": {
    "colab": {
      "provenance": [],
      "authorship_tag": "ABX9TyMPnXJNPWyU72Oq1EtrFwuu",
      "include_colab_link": true
    },
    "kernelspec": {
      "name": "python3",
      "display_name": "Python 3"
    },
    "language_info": {
      "name": "python"
    }
  },
  "cells": [
    {
      "cell_type": "markdown",
      "metadata": {
        "id": "view-in-github",
        "colab_type": "text"
      },
      "source": [
        "<a href=\"https://colab.research.google.com/github/EmadSoheili/NLP-UofT-PySparkNLP/blob/main/Tokenize_data.ipynb\" target=\"_parent\"><img src=\"https://colab.research.google.com/assets/colab-badge.svg\" alt=\"Open In Colab\"/></a>"
      ]
    },
    {
      "cell_type": "code",
      "source": [
        "# Install PySpark\n",
        "\n",
        "!pip install pyspark"
      ],
      "metadata": {
        "colab": {
          "base_uri": "https://localhost:8080/"
        },
        "id": "GagRnNJlA14N",
        "outputId": "62aed6ec-6b7e-4181-f560-3158cabaf87f"
      },
      "execution_count": 1,
      "outputs": [
        {
          "output_type": "stream",
          "name": "stdout",
          "text": [
            "Looking in indexes: https://pypi.org/simple, https://us-python.pkg.dev/colab-wheels/public/simple/\n",
            "Requirement already satisfied: pyspark in /usr/local/lib/python3.8/dist-packages (3.2.1)\n",
            "Requirement already satisfied: py4j==0.10.9.3 in /usr/local/lib/python3.8/dist-packages (from pyspark) (0.10.9.3)\n"
          ]
        }
      ]
    },
    {
      "cell_type": "code",
      "source": [
        "# Start Spark session\n",
        "\n",
        "from pyspark.sql import SparkSession\n",
        "spark = SparkSession.builder.appName(\"Tokens\").getOrCreate()"
      ],
      "metadata": {
        "id": "tKBVGM8HBY6i"
      },
      "execution_count": 2,
      "outputs": []
    },
    {
      "cell_type": "code",
      "source": [
        "# Import Tokenizer\n",
        "\n",
        "from pyspark.ml.feature import Tokenizer"
      ],
      "metadata": {
        "id": "mCpu5P5mCzyG"
      },
      "execution_count": 3,
      "outputs": []
    },
    {
      "cell_type": "code",
      "source": [
        "# Create a sample DF\n",
        "\n",
        "df = spark.createDataFrame([\n",
        "    (0, 'Spark is great'),\n",
        "    (1, 'We are learning Spark'),\n",
        "    (2, 'Spark is better than hadoop no doubt')\n",
        "], ['id', 'sentence'])\n",
        "\n",
        "df.show()"
      ],
      "metadata": {
        "colab": {
          "base_uri": "https://localhost:8080/"
        },
        "id": "d8rrgAQUKzuW",
        "outputId": "0608a508-62c3-4bce-c8fc-6fba5a2edc72"
      },
      "execution_count": 11,
      "outputs": [
        {
          "output_type": "stream",
          "name": "stdout",
          "text": [
            "+---+--------------------+\n",
            "| id|            sentence|\n",
            "+---+--------------------+\n",
            "|  0|      Spark is great|\n",
            "|  1|We are learning S...|\n",
            "|  2|Spark is better t...|\n",
            "+---+--------------------+\n",
            "\n"
          ]
        }
      ]
    },
    {
      "cell_type": "code",
      "source": [
        "from IPython.core.displayhook import tokenize\n",
        "# Tokenize sentences\n",
        "\n",
        "tokenizer = Tokenizer(inputCol='sentence', outputCol='words')\n",
        "tokenized_df = tokenizer.transform(df)\n",
        "tokenized_df.show(truncate=False)"
      ],
      "metadata": {
        "colab": {
          "base_uri": "https://localhost:8080/"
        },
        "id": "yT5xkSUKPMl-",
        "outputId": "def2e6c7-c510-49ed-f6aa-739ab9610b1f"
      },
      "execution_count": 14,
      "outputs": [
        {
          "output_type": "stream",
          "name": "stdout",
          "text": [
            "+---+------------------------------------+--------------------------------------------+\n",
            "|id |sentence                            |words                                       |\n",
            "+---+------------------------------------+--------------------------------------------+\n",
            "|0  |Spark is great                      |[spark, is, great]                          |\n",
            "|1  |We are learning Spark               |[we, are, learning, spark]                  |\n",
            "|2  |Spark is better than hadoop no doubt|[spark, is, better, than, hadoop, no, doubt]|\n",
            "+---+------------------------------------+--------------------------------------------+\n",
            "\n"
          ]
        }
      ]
    },
    {
      "cell_type": "code",
      "source": [
        "def word_list_length(word_list):\n",
        "  return len(word_list)"
      ],
      "metadata": {
        "id": "0FMMulV6PmFB"
      },
      "execution_count": 15,
      "outputs": []
    },
    {
      "cell_type": "code",
      "source": [
        "from pyspark.sql.functions import col, udf\n",
        "from pyspark.sql.types import IntegerType"
      ],
      "metadata": {
        "id": "EjUFIjTGSsvR"
      },
      "execution_count": 16,
      "outputs": []
    },
    {
      "cell_type": "code",
      "source": [
        "# Create a udf\n",
        "\n",
        "count_tokens = udf(word_list_length, IntegerType())"
      ],
      "metadata": {
        "id": "7gqtpYLrS0gJ"
      },
      "execution_count": 19,
      "outputs": []
    },
    {
      "cell_type": "code",
      "source": [
        "#\n",
        "\n",
        "tokenized_df.withColumn('tokens', count_tokens(col('words'))).show(truncate=False)"
      ],
      "metadata": {
        "colab": {
          "base_uri": "https://localhost:8080/"
        },
        "id": "HOnMQCuZTMQ6",
        "outputId": "a4a58202-4b0e-4ba4-c951-31d801e14aeb"
      },
      "execution_count": 20,
      "outputs": [
        {
          "output_type": "stream",
          "name": "stdout",
          "text": [
            "+---+------------------------------------+--------------------------------------------+------+\n",
            "|id |sentence                            |words                                       |tokens|\n",
            "+---+------------------------------------+--------------------------------------------+------+\n",
            "|0  |Spark is great                      |[spark, is, great]                          |3     |\n",
            "|1  |We are learning Spark               |[we, are, learning, spark]                  |4     |\n",
            "|2  |Spark is better than hadoop no doubt|[spark, is, better, than, hadoop, no, doubt]|7     |\n",
            "+---+------------------------------------+--------------------------------------------+------+\n",
            "\n"
          ]
        }
      ]
    }
  ]
}