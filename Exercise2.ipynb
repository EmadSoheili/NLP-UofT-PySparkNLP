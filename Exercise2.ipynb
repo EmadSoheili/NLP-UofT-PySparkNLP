{
  "nbformat": 4,
  "nbformat_minor": 0,
  "metadata": {
    "colab": {
      "provenance": [],
      "authorship_tag": "ABX9TyMv+lFo8ACahpIi2ecf3hN+",
      "include_colab_link": true
    },
    "kernelspec": {
      "name": "python3",
      "display_name": "Python 3"
    },
    "language_info": {
      "name": "python"
    }
  },
  "cells": [
    {
      "cell_type": "markdown",
      "metadata": {
        "id": "view-in-github",
        "colab_type": "text"
      },
      "source": [
        "<a href=\"https://colab.research.google.com/github/EmadSoheili/PySpark-UofT-NLP/blob/main/Exercise2.ipynb\" target=\"_parent\"><img src=\"https://colab.research.google.com/assets/colab-badge.svg\" alt=\"Open In Colab\"/></a>"
      ]
    },
    {
      "cell_type": "code",
      "execution_count": null,
      "metadata": {
        "colab": {
          "base_uri": "https://localhost:8080/"
        },
        "id": "phjwdyiafABS",
        "outputId": "6089f3e9-1700-4cf3-c3d0-eee83a54a394"
      },
      "outputs": [
        {
          "output_type": "stream",
          "name": "stdout",
          "text": [
            "Looking in indexes: https://pypi.org/simple, https://us-python.pkg.dev/colab-wheels/public/simple/\n",
            "Collecting pyspark\n",
            "  Downloading pyspark-3.3.1.tar.gz (281.4 MB)\n",
            "\u001b[K     |████████████████████████████████| 281.4 MB 39 kB/s \n",
            "\u001b[?25hCollecting py4j==0.10.9.5\n",
            "  Downloading py4j-0.10.9.5-py2.py3-none-any.whl (199 kB)\n",
            "\u001b[K     |████████████████████████████████| 199 kB 53.2 MB/s \n",
            "\u001b[?25hBuilding wheels for collected packages: pyspark\n",
            "  Building wheel for pyspark (setup.py) ... \u001b[?25l\u001b[?25hdone\n",
            "  Created wheel for pyspark: filename=pyspark-3.3.1-py2.py3-none-any.whl size=281845512 sha256=4977ab19b0f709f4d4f27596c0e2664e7484e14ff9a0bd756c44e85806fd0d38\n",
            "  Stored in directory: /root/.cache/pip/wheels/43/dc/11/ec201cd671da62fa9c5cc77078235e40722170ceba231d7598\n",
            "Successfully built pyspark\n",
            "Installing collected packages: py4j, pyspark\n",
            "Successfully installed py4j-0.10.9.5 pyspark-3.3.1\n"
          ]
        }
      ],
      "source": [
        "!pip install pyspark"
      ]
    },
    {
      "cell_type": "code",
      "source": [
        "# Start Spark session\n",
        "\n",
        "from pyspark.sql import SparkSession\n",
        "\n",
        "spark = SparkSession.builder.appName(\"DataFrameFunctions\").getOrCreate()"
      ],
      "metadata": {
        "id": "r_yiQJJ-fh4v"
      },
      "execution_count": null,
      "outputs": []
    },
    {
      "cell_type": "code",
      "source": [
        "# Read in data from S3 Buckets\n",
        "\n",
        "from pyspark import SparkFiles\n",
        "\n",
        "url =\"https://2u-data-curriculum-team.s3.amazonaws.com/dataviz-online/v2/module_17/wine.csv\"\n",
        "spark.sparkContext.addFile(url)\n",
        "df = spark.read.csv(SparkFiles.get(\"wine.csv\"), sep=\",\", header=True)\n",
        "df.show()"
      ],
      "metadata": {
        "colab": {
          "base_uri": "https://localhost:8080/"
        },
        "id": "MG8L65Kuflue",
        "outputId": "ab329043-c1c6-4574-8064-3f375a7df37b"
      },
      "execution_count": null,
      "outputs": [
        {
          "output_type": "stream",
          "name": "stdout",
          "text": [
            "+-------+--------------------+--------------------+------+-----+------------------+--------------------+-----------------+------------------+--------------------+\n",
            "|country|         description|         designation|points|price|          province|            region_1|         region_2|           variety|              winery|\n",
            "+-------+--------------------+--------------------+------+-----+------------------+--------------------+-----------------+------------------+--------------------+\n",
            "|     US|This tremendous 1...|   Martha's Vineyard|    96|  235|        California|         Napa Valley|             Napa|Cabernet Sauvignon|               Heitz|\n",
            "|  Spain|Ripe aromas of fi...|Carodorum Selecci...|    96|  110|    Northern Spain|                Toro|             null|     Tinta de Toro|Bodega Carmen Rod...|\n",
            "|     US|Mac Watson honors...|Special Selected ...|    96|   90|        California|      Knights Valley|           Sonoma|   Sauvignon Blanc|            Macauley|\n",
            "|     US|This spent 20 mon...|             Reserve|    96|   65|            Oregon|   Willamette Valley|Willamette Valley|        Pinot Noir|               Ponzi|\n",
            "| France|This is the top w...|         La Br��lade|    95|   66|          Provence|              Bandol|             null|Provence red blend|Domaine de la B̩gude|\n",
            "|  Spain|Deep, dense and p...|           Numanthia|    95|   73|    Northern Spain|                Toro|             null|     Tinta de Toro|           Numanthia|\n",
            "|  Spain|Slightly gritty b...|          San Rom��n|    95|   65|    Northern Spain|                Toro|             null|     Tinta de Toro|            Maurodos|\n",
            "|  Spain|Lush cedary black...|Carodorum �_nico ...|    95|  110|    Northern Spain|                Toro|             null|     Tinta de Toro|Bodega Carmen Rod...|\n",
            "|     US|This re-named vin...|              Silice|    95|   65|            Oregon|  Chehalem Mountains|Willamette Valley|        Pinot Noir|           Bergstr̦m|\n",
            "|     US|The producer sour...|Gap's Crown Vineyard|    95|   60|        California|        Sonoma Coast|           Sonoma|        Pinot Noir|           Blue Farm|\n",
            "|  Italy|Elegance, complex...|  Ronco della Chiesa|    95|   80|Northeastern Italy|              Collio|             null|          Friulano|    Borgo del Tiglio|\n",
            "|     US|From 18-year-old ...|Estate Vineyard W...|    95|   48|            Oregon|        Ribbon Ridge|Willamette Valley|        Pinot Noir|Patricia Green Ce...|\n",
            "|     US|A standout even i...|      Weber Vineyard|    95|   48|            Oregon|        Dundee Hills|Willamette Valley|        Pinot Noir|Patricia Green Ce...|\n",
            "| France|This wine is in p...|Ch̢teau Montus Pr...|    95|   90|  Southwest France|             Madiran|             null|            Tannat|   Vignobles Brumont|\n",
            "|     US|With its sophisti...|      Grace Vineyard|    95|  185|            Oregon|        Dundee Hills|Willamette Valley|        Pinot Noir|      Domaine Serene|\n",
            "|     US|First made in 200...|              Sigrid|    95|   90|            Oregon|   Willamette Valley|Willamette Valley|        Chardonnay|           Bergstr̦m|\n",
            "|     US|This blockbuster,...|     Rainin Vineyard|    95|  325|        California|Diamond Mountain ...|             Napa|Cabernet Sauvignon|                Hall|\n",
            "|  Spain|Nicely oaked blac...|6 A̱os Reserva Pr...|    95|   80|    Northern Spain|    Ribera del Duero|             null|       Tempranillo|            Valduero|\n",
            "| France|Coming from a sev...|       Le Pigeonnier|    95|  290|  Southwest France|              Cahors|             null|            Malbec|  Ch̢teau Lagr̩zette|\n",
            "|     US|This fresh and li...|Gap's Crown Vineyard|    95|   75|        California|        Sonoma Coast|           Sonoma|        Pinot Noir|        Gary Farrell|\n",
            "+-------+--------------------+--------------------+------+-----+------------------+--------------------+-----------------+------------------+--------------------+\n",
            "only showing top 20 rows\n",
            "\n"
          ]
        }
      ]
    },
    {
      "cell_type": "code",
      "source": [
        "# Order DataFrame\n",
        "\n",
        "df.orderBy(df['points'].desc()).show(5)"
      ],
      "metadata": {
        "colab": {
          "base_uri": "https://localhost:8080/"
        },
        "id": "HHh-NoaSf0zm",
        "outputId": "5d330ccf-fddb-4f9d-9f62-a09290170e09"
      },
      "execution_count": null,
      "outputs": [
        {
          "output_type": "stream",
          "name": "stdout",
          "text": [
            "+-------+--------------------+--------------------+------+-----+----------+-----------+--------+--------------------+--------------------+\n",
            "|country|         description|         designation|points|price|  province|   region_1|region_2|             variety|              winery|\n",
            "+-------+--------------------+--------------------+------+-----+----------+-----------+--------+--------------------+--------------------+\n",
            "|     US|This is an absolu...|           IX Estate|    99|  290|California|Napa Valley|    Napa|           Red Blend|              Colgin|\n",
            "| France|98-100 Barrel sam...|       Barrel sample|    99| null|  Bordeaux|   Pauillac|    null|Bordeaux-style Re...|Ch̢teau Pontet-Canet|\n",
            "|     US|There are incredi...|Elevation 1147 Es...|    99|  150|California|Napa Valley|    Napa|  Cabernet Sauvignon|        David Arthur|\n",
            "| France|A magnificent Cha...|Dom P̩rignon Oeno...|    99|  385| Champagne|  Champagne|    null|     Champagne Blend|     Mo��t & Chandon|\n",
            "|  Italy|Even better than ...|             Masseto|    99|  250|   Tuscany|    Toscana|    null|              Merlot|Tenuta dell'Ornel...|\n",
            "+-------+--------------------+--------------------+------+-----+----------+-----------+--------+--------------------+--------------------+\n",
            "only showing top 5 rows\n",
            "\n"
          ]
        }
      ]
    },
    {
      "cell_type": "code",
      "source": [
        "df.orderBy(df['points'].asc()).show(50)"
      ],
      "metadata": {
        "colab": {
          "base_uri": "https://localhost:8080/"
        },
        "id": "1FeStTM3hWG7",
        "outputId": "0291b5d6-72b6-46ea-b28c-50b36f5fade7"
      },
      "execution_count": null,
      "outputs": [
        {
          "output_type": "stream",
          "name": "stdout",
          "text": [
            "+--------------------+--------------------+--------------------+--------------------+--------------------+--------------------+--------------------+--------------------+--------------------+--------------------+\n",
            "|             country|         description|         designation|              points|               price|            province|            region_1|            region_2|             variety|              winery|\n",
            "+--------------------+--------------------+--------------------+--------------------+--------------------+--------------------+--------------------+--------------------+--------------------+--------------------+\n",
            "|                  US|               Ripe |                null|                null|                null|                null|                null|                null|                null|                null|\n",
            "|                  US|Brisk and clean, ...|                null|                null|                null|                null|                null|                null|                null|                null|\n",
            "|                  US|The strong aroma ...|                null|                null|                null|                null|                null|                null|                null|                null|\n",
            "|               Italy|\"This nicely stru...| bitter almond an...|                null|                  88|                  24|  Northeastern Italy|      Venezia Giulia|                null|        Pinot Grigio|\n",
            "|               Italy|This offers gener...|                null|                null|                null|                null|                null|                null|                null|                null|\n",
            "|                  US|This shows a deft...|                null|                null|                null|                null|                null|                null|                null|                null|\n",
            "|           Australia|\"It's beyond me w...| and top it all o...| Sweet Tart aroma...|                null|                  82|                  19|     South Australia|     Langhorne Creek|                null|\n",
            "|           Australia|\"It's beyond me w...| and top it all o...| Sweet Tart aroma...|                null|                  82|                  19|     South Australia|     Langhorne Creek|                null|\n",
            "|           Australia|\"The winery's cel...| break open this ...| and perhaps a li...| wtih dark plum a...| Cab Franc (30%) ...| made nonvintage ...|               Vixen|                  88|                  17|\n",
            "|                  US|\"Rarely does a Ca...|    but here it does| and who should c...| round and delici...|       Grand Reserve|                  93|                  60|          California|          California|\n",
            "|         New Zealand|\"Produced from \"\"...| Riesling offers ...| apple and pear a...| you might expect...| but thanks to cr...| it's not cloying...| well-balanced wi...|Desert Gold Late ...|                  86|\n",
            "|         New Zealand|\"Produced from \"\"...| Riesling offers ...| apple and pear a...| you might expect...| but thanks to cr...| it's not cloying...| well-balanced wi...|Desert Gold Late ...|                  86|\n",
            "|         New Zealand|\"Produced from \"\"...| Riesling offers ...| apple and pear a...| you might expect...| but thanks to cr...| it's not cloying...| well-balanced wi...|Desert Gold Late ...|                  86|\n",
            "|               Italy|\"Made with a blen...| black pepper and...| biodynamic and o...|       Munjebel 7 VA|                  91|                  50|   Sicily & Sardinia|                Etna|                null|\n",
            "|           Australia|\"For the price, t...|\"\" as Australians...| chocolate and ce...| balanced by savo...|     D Block Reserve|                  92|                  50|     South Australia|        McLaren Vale|\n",
            "|                  US|\"Note the \"\"Bened...| from a time when...| cloudy with sedi...|               anise|          sweet beet|          smoky char|          spice. Dry|         full-bodied| rich in dark che...|\n",
            "|                  US|\"Takes all of the...|                plum| coffee and mocha...| a thick texture ...|        Andy's Field|                  89|                  27|            New York|North Fork of Lon...|\n",
            "|                  US|\"Takes all of the...|                plum| coffee and mocha...| a thick texture ...|        Andy's Field|                  89|                  27|            New York|North Fork of Lon...|\n",
            "|                  US|\"The word \"\"black...|              coffee| currant. Cola is...| and creamy and r...| with excellent w...|        Sunshine Vyd|                  93|                  95|          California|\n",
            "|                  US|\"For this winery'...| it shines bright...| espresso bean an...| with just the sl...|                null|                  92|                  35|          California|         Napa Valley|\n",
            "|             Germany|\"This rather rust...| simple and earth...| fermenting-hay n...| continues into t...| it might work wi...|      Qualit�_tswein|                  82|                  12|               Baden|\n",
            "|             Germany|\"This rather rust...| simple and earth...| fermenting-hay n...| continues into t...| it might work wi...|      Qualit�_tswein|                  82|                  12|               Baden|\n",
            "|              France|\"The nose is domi...| and at this poin...|   given the price.\"|         Les Charmes|                  87|                  65|            Burgundy|   Chambolle-Musigny|                null|\n",
            "|              France|\"The nose is domi...| and at this poin...|   given the price.\"|         Les Charmes|                  87|                  65|            Burgundy|   Chambolle-Musigny|                null|\n",
            "|                  US|\"Noceto is a Sang...| which dates back...| good and juicy w...| but also tannic ...|          dusty even| with a hint of m...|OGP - The Origina...|                  88|                  29|\n",
            "|             Austria|         \"\"\"Chremisa|\"\" the ancient na...| is commemorated ...| tangy apple-driv...|       with a bright|               light| citrusy characte...|Edition Chremisa ...|                  85|\n",
            "|                  US|\"I called the '04...| and this wine se...| it suffers from ...| raisiny flavors ...|  Clos Pepe Vineyard|                  82|                  40|          California|     Sta. Rita Hills|\n",
            "|                  US|\"This oddball gra...| concentrated aro...|     kiwi and orange| with a noticeabl...|         big flavors| and a lot of wei...|                null|                  84|                  18|\n",
            "|blackberry and bl...| which is rich in...| smoky oak. But i...|       so drink up.\"|       Artist Series|                  87|                  60|          California|       Sonoma County|              Sonoma|\n",
            "|                  US|\"This Cabernet-Me...| which in this ca...| the wine should ...|Estate Monte Bell...|                  95|                  40|          California|Santa Cruz Mountains|       Central Coast|\n",
            "|           Australia|\"Gemtree's \"\"regu...|        the Obsidian| though the latte...| and good intensi...| smoky flavors po...|               Uncut|                  89|                  28|     South Australia|\n",
            "|            Portugal|\"\"\"New moon on ol...|           ripe wine|       very textured| complex. It has ...|  laced with acidity| very firmly anch...|Lua Nova em Vinha...|                  91|                  15|\n",
            "|           Australia|\"Light green pea ...|             he says| will get more oak.\"|                null|                  87|                  13|     South Australia|        McLaren Vale|                null|\n",
            "|                  US|\"The flagship of ...| chewier finish t...| with aromas and ...|              cassis|             tobacco| cedar and a mult...| starting in 2010...|Limited Release I...|                  93|\n",
            "|                  US|\"The flagship of ...| chewier finish t...| with aromas and ...|              cassis|             tobacco| cedar and a mult...| starting in 2010...|Limited Release I...|                  93|\n",
            "|                  US|\"The flagship of ...| chewier finish t...| with aromas and ...|              cassis|             tobacco| cedar and a mult...| starting in 2010...|Limited Release I...|                  93|\n",
            "|              France|\"A curious connec...| the wine itself ...| with aromas of h...|   layers of acidity|    a touch of toast| but still retain...|  Cuv̩e Pr̩dilection|                  90|                null|\n",
            "|              France|\"A curious connec...| the wine itself ...| with aromas of h...|   layers of acidity|    a touch of toast| but still retain...|  Cuv̩e Pr̩dilection|                  90|                null|\n",
            "|                  US|Impossibly aromat...|            Red Wine|                 100|                 245|          California|          Rutherford|                Napa|      Cabernet Blend|               Sloan|\n",
            "|                  US|In a stunning lin...|En Chamberlin Vin...|                 100|                  65|              Oregon|Walla Walla Valle...|        Oregon Other|               Syrah|              Cayuse|\n",
            "|           Australia|Not a Cellar Sele...|                Rare|                 100|                 300|            Victoria|          Rutherglen|                null|              Muscat|Chambers Rosewood...|\n",
            "|              France|A wine that has c...|      Clos du Mesnil|                 100|                1400|           Champagne|           Champagne|                null|          Chardonnay|                Krug|\n",
            "|                  US|In a stunning lin...|En Chamberlin Vin...|                 100|                  65|              Oregon|Walla Walla Valle...|        Oregon Other|               Syrah|              Cayuse|\n",
            "|                  US|Tasted in a fligh...|                null|                 100|                 200|          California|         Napa Valley|                Napa|  Cabernet Sauvignon|           Cardinale|\n",
            "|                  US|Impossibly aromat...|            Red Wine|                 100|                 245|          California|          Rutherford|                Napa|      Cabernet Blend|               Sloan|\n",
            "|              France|Full of ripe frui...|                null|                 100|                 848|            Bordeaux|      Pessac-L̩ognan|                null|Bordeaux-style Wh...|  Ch̢teau Haut-Brion|\n",
            "|                  US|A perfect score h...|     Hillside Select|                 100|                 215|          California| Stags Leap District|                Napa|  Cabernet Sauvignon|              Shafer|\n",
            "|                  US|A spectacular Pin...|Litton Estate Vin...|                 100|                 100|          California|Russian River Valley|              Sonoma|          Pinot Noir|     Williams Selyem|\n",
            "|           Australia|Not a Cellar Sele...|                Rare|                 100|                 300|            Victoria|          Rutherglen|                null|              Muscat|Chambers Rosewood...|\n",
            "|               Italy|This small, famil...|    Guado de' Gemoli|                 100|                 195|             Tuscany|  Bolgheri Superiore|                null|           Red Blend|  Giovanni Chiappini|\n",
            "+--------------------+--------------------+--------------------+--------------------+--------------------+--------------------+--------------------+--------------------+--------------------+--------------------+\n",
            "only showing top 50 rows\n",
            "\n"
          ]
        }
      ]
    },
    {
      "cell_type": "code",
      "source": [
        "# import other functions\n",
        "\n",
        "from pyspark.sql.functions import avg\n",
        "\n",
        "df.select(avg('points')).show()"
      ],
      "metadata": {
        "colab": {
          "base_uri": "https://localhost:8080/"
        },
        "id": "QJpLmKI1hlUw",
        "outputId": "9c80e93d-cd39-40e3-c45e-3f3fe0d04c1c"
      },
      "execution_count": null,
      "outputs": [
        {
          "output_type": "stream",
          "name": "stdout",
          "text": [
            "+-----------------+\n",
            "|      avg(points)|\n",
            "+-----------------+\n",
            "|87.88834105383143|\n",
            "+-----------------+\n",
            "\n"
          ]
        }
      ]
    },
    {
      "cell_type": "code",
      "source": [
        "# Filter 1\n",
        "\n",
        "df.filter('price<20').select(['points', 'country', 'winery', 'price']).show(5)"
      ],
      "metadata": {
        "colab": {
          "base_uri": "https://localhost:8080/"
        },
        "id": "RTNLSDyeiI0-",
        "outputId": "01b80e96-6639-448a-93c1-1442f617faae"
      },
      "execution_count": null,
      "outputs": [
        {
          "output_type": "stream",
          "name": "stdout",
          "text": [
            "+------+--------+--------------------+-----+\n",
            "|points| country|              winery|price|\n",
            "+------+--------+--------------------+-----+\n",
            "|    90|Bulgaria|        Villa Melnik|   15|\n",
            "|    90|   Spain|      Don Bernardino|   17|\n",
            "|    90|      US|            De Loach|   18|\n",
            "|    91|      US|   Trinity Vineyards|   19|\n",
            "|    91|Portugal|Adega Cooperativa...|   15|\n",
            "+------+--------+--------------------+-----+\n",
            "only showing top 5 rows\n",
            "\n"
          ]
        }
      ]
    },
    {
      "cell_type": "code",
      "source": [
        "# Filter 2\n",
        "\n",
        "df.filter('price<20').show(5)"
      ],
      "metadata": {
        "colab": {
          "base_uri": "https://localhost:8080/"
        },
        "id": "wocIAKYBjOM4",
        "outputId": "81dbf292-f1d4-48e4-e01c-8b1b949663e5"
      },
      "execution_count": null,
      "outputs": [
        {
          "output_type": "stream",
          "name": "stdout",
          "text": [
            "+--------+--------------------+-----------+------+-----+----------+--------------------+-----------------+--------------+--------------------+\n",
            "| country|         description|designation|points|price|  province|            region_1|         region_2|       variety|              winery|\n",
            "+--------+--------------------+-----------+------+-----+----------+--------------------+-----------------+--------------+--------------------+\n",
            "|Bulgaria|This Bulgarian Ma...|    Bergul̩|    90|   15|  Bulgaria|                null|             null|        Mavrud|        Villa Melnik|\n",
            "|   Spain|Earthy plum and c...|     Amandi|    90|   17|   Galicia|       Ribeira Sacra|             null|       Menc�_a|      Don Bernardino|\n",
            "|      US|There's a lot to ...|       null|    90|   18|California|Russian River Valley|           Sonoma|    Chardonnay|            De Loach|\n",
            "|      US|Massively fruity,...|       null|    91|   19|    Oregon|   Willamette Valley|Willamette Valley|    Pinot Gris|   Trinity Vineyards|\n",
            "|Portugal|It is the ripe da...|    Premium|    91|   15|  Alentejo|                null|             null|Portuguese Red|Adega Cooperativa...|\n",
            "+--------+--------------------+-----------+------+-----+----------+--------------------+-----------------+--------------+--------------------+\n",
            "only showing top 5 rows\n",
            "\n"
          ]
        }
      ]
    },
    {
      "cell_type": "code",
      "source": [
        "# Filter 3\n",
        "\n",
        "df.filter(df['country'] == 'US').show()"
      ],
      "metadata": {
        "colab": {
          "base_uri": "https://localhost:8080/"
        },
        "id": "e_GGRisfjwIg",
        "outputId": "0eb7da8f-44ed-40b5-9ee4-b8cd3ae27c5c"
      },
      "execution_count": null,
      "outputs": [
        {
          "output_type": "stream",
          "name": "stdout",
          "text": [
            "+-------+--------------------+--------------------+------+-----+----------+--------------------+-----------------+------------------+--------------------+\n",
            "|country|         description|         designation|points|price|  province|            region_1|         region_2|           variety|              winery|\n",
            "+-------+--------------------+--------------------+------+-----+----------+--------------------+-----------------+------------------+--------------------+\n",
            "|     US|This tremendous 1...|   Martha's Vineyard|    96|  235|California|         Napa Valley|             Napa|Cabernet Sauvignon|               Heitz|\n",
            "|     US|Mac Watson honors...|Special Selected ...|    96|   90|California|      Knights Valley|           Sonoma|   Sauvignon Blanc|            Macauley|\n",
            "|     US|This spent 20 mon...|             Reserve|    96|   65|    Oregon|   Willamette Valley|Willamette Valley|        Pinot Noir|               Ponzi|\n",
            "|     US|This re-named vin...|              Silice|    95|   65|    Oregon|  Chehalem Mountains|Willamette Valley|        Pinot Noir|           Bergstr̦m|\n",
            "|     US|The producer sour...|Gap's Crown Vineyard|    95|   60|California|        Sonoma Coast|           Sonoma|        Pinot Noir|           Blue Farm|\n",
            "|     US|From 18-year-old ...|Estate Vineyard W...|    95|   48|    Oregon|        Ribbon Ridge|Willamette Valley|        Pinot Noir|Patricia Green Ce...|\n",
            "|     US|A standout even i...|      Weber Vineyard|    95|   48|    Oregon|        Dundee Hills|Willamette Valley|        Pinot Noir|Patricia Green Ce...|\n",
            "|     US|With its sophisti...|      Grace Vineyard|    95|  185|    Oregon|        Dundee Hills|Willamette Valley|        Pinot Noir|      Domaine Serene|\n",
            "|     US|First made in 200...|              Sigrid|    95|   90|    Oregon|   Willamette Valley|Willamette Valley|        Chardonnay|           Bergstr̦m|\n",
            "|     US|This blockbuster,...|     Rainin Vineyard|    95|  325|California|Diamond Mountain ...|             Napa|Cabernet Sauvignon|                Hall|\n",
            "|     US|This fresh and li...|Gap's Crown Vineyard|    95|   75|California|        Sonoma Coast|           Sonoma|        Pinot Noir|        Gary Farrell|\n",
            "|     US|Heitz has made th...|          Grignolino|    95|   24|California|         Napa Valley|             Napa|              Ros̩|               Heitz|\n",
            "|     US|The apogee of thi...|       Giallo Solare|    95|   60|California|         Edna Valley|    Central Coast|        Chardonnay|    Center of Effort|\n",
            "|     US|San Jose-based pr...|       R-Bar-R Ranch|    95|   45|California|Santa Cruz Mountains|    Central Coast|        Pinot Noir|            Comartin|\n",
            "|     US|Bergstr̦m has mad...|       Shea Vineyard|    94|   62|    Oregon|   Willamette Valley|             null|        Pinot Noir|           Bergstr̦m|\n",
            "|     US|Focused and dense...|             Abetina|    94|  105|    Oregon|   Willamette Valley|Willamette Valley|        Pinot Noir|               Ponzi|\n",
            "|     US|Cranberry, baked ...|     Garys' Vineyard|    94|   60|California|Santa Lucia Highl...|    Central Coast|        Pinot Noir|                Roar|\n",
            "|     US|This standout Roc...|     The Funk Estate|    94|   60|Washington|Walla Walla Valle...|  Columbia Valley|             Syrah|              Saviah|\n",
            "|     US|Steely and perfum...|            Babushka|    90|   37|California|Russian River Valley|           Sonoma|        Chardonnay|            Zepaltas|\n",
            "|     US|The aromas entice...| Conner Lee Vineyard|    90|   42|Washington|Columbia Valley (WA)|  Columbia Valley|        Chardonnay|                Buty|\n",
            "+-------+--------------------+--------------------+------+-----+----------+--------------------+-----------------+------------------+--------------------+\n",
            "only showing top 20 rows\n",
            "\n"
          ]
        }
      ]
    }
  ]
}